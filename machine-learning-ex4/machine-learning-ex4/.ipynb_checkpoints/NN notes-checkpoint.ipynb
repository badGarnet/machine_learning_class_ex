{
 "cells": [
  {
   "cell_type": "markdown",
   "metadata": {},
   "source": [
    "The back propagation NN algorithm consists of the following steps.\n",
    "\n",
    "1. Assume training set is $X(m, n), y(m, k)$ with m training examples and each has n features and k output units.\n",
    "3. There are L layers, with l=1 as the input layer, i.e., l=L as the output layer.\n",
    "4. In each layer the number of units that is not the bias unit (1) is $u_L$. Thus $u_1 = n$ and $u_L=k$.\n",
    "5. Let the weighting parameters in layer $l$ be $\\Theta^l(u_{l+1}, u_l+1)$ \n",
    "5. In forward propagation: $a_1 = X(m, u_1)$ where $u_1 = n$; for i = 2:L\n",
    "    5.1. $z_{i-1}$ = [ones(m,1), $a_{i-1}$];\n",
    "    5.2. $a_i = g(z\\times(\\Theta^l)^T)$, where $g(x) = \\frac{1}\\frac{1+e^{-x}}$\n",
    "    5.3. The output is $a_L(m, k)$\n",
    "6. In backward propagation: $\\delta_L = a_L - y$; for i=L-1:-1:2\n",
    "    6.1. $\\delta_i(m, u_i+1) = (\\delta_{i+1}(m, u_{i+1})\\times(\\Theta_i(u_i+1, u_{i+1}))^T) \\dot g^'(z_i(m, u_i+1))$\n",
    "7. Gradients for each layer without regularization is\n",
    "    $D^l(u_{l+1}, u_l+1) = (\\delta_{l+1}(:,2:u_{l+1}+1))^T \\times a_l(m, u_l+1) / m$"
   ]
  }
 ],
 "metadata": {
  "kernelspec": {
   "display_name": "Python 2",
   "language": "python",
   "name": "python2"
  },
  "language_info": {
   "codemirror_mode": {
    "name": "ipython",
    "version": 2
   },
   "file_extension": ".py",
   "mimetype": "text/x-python",
   "name": "python",
   "nbconvert_exporter": "python",
   "pygments_lexer": "ipython2",
   "version": "2.7.13"
  }
 },
 "nbformat": 4,
 "nbformat_minor": 2
}
